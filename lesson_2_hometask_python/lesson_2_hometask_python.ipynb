{
 "cells": [
  {
   "cell_type": "markdown",
   "id": "172fafd1",
   "metadata": {},
   "source": [
    "# There are two whole numbers: 1 < a,b <100"
   ]
  },
  {
   "cell_type": "code",
   "execution_count": 278,
   "id": "427d4c23",
   "metadata": {},
   "outputs": [],
   "source": [
    "probable_products = [i for i in range(4, 9801)]\n",
    "probable_sums = [i for i in range(4, 198)]\n",
    "probable_a_numbers = [i for i in range(2, 100)]\n",
    "probable_b_numbers = [i for i in range(2, 100)]"
   ]
  },
  {
   "cell_type": "markdown",
   "id": "6877ac5f",
   "metadata": {},
   "source": [
    "# Dialog between Product and Sum"
   ]
  },
  {
   "cell_type": "markdown",
   "id": "07cc53ee",
   "metadata": {},
   "source": [
    "### Prod: I don't know the numbers"
   ]
  },
  {
   "cell_type": "code",
   "execution_count": 535,
   "id": "db1b6f44",
   "metadata": {},
   "outputs": [],
   "source": [
    "# Find multipliers in product\n",
    "def get_multipliers(n):\n",
    "    '''Find simple multipliers in product, get an argument 'n' that is product\n",
    "    -->return array of simple multipliers'''\n",
    "    return [[factor, n//factor] for factor in range(2, int(n**.5) + 1) if n % factor == 0]"
   ]
  },
  {
   "cell_type": "code",
   "execution_count": 548,
   "id": "0a90f8f6",
   "metadata": {},
   "outputs": [],
   "source": [
    "prods_with_mults = []\n",
    "prods = []\n",
    "for num in probable_products:\n",
    "    multipliers = get_multipliers(num)\n",
    "    if len(get_multipliers(num)) > 1:\n",
    "        prods_with_mults.append((num, multipliers))        \n",
    "        prods.append(num)"
   ]
  },
  {
   "cell_type": "markdown",
   "id": "28c59ea9",
   "metadata": {},
   "source": [
    "### Sum: I know it"
   ]
  },
  {
   "cell_type": "code",
   "execution_count": 622,
   "id": "39e6507e",
   "metadata": {},
   "outputs": [],
   "source": [
    "# Check if all products of addends containing in prods_with_mults list\n",
    "def each_products_in_list(n):\n",
    "    '''Check if all products of addends containing in prods_with_mults list\n",
    "    --> return True or False'''\n",
    "    addends_1 = [i for i in range(2, n - 1) if i < 100]\n",
    "    addends_2 = [i for i in range(n-2, 1, -1) if i < 100]\n",
    "    products_of_addends = []\n",
    "\n",
    "    for i in range(round(len(addends_1) / 2)):\n",
    "        product = addends_1[i] * addends_2[i]\n",
    "        products_of_addends.append((product, [addends_1[i], addends_2[i]]))\n",
    "    \n",
    "    \n",
    "    for product in products_of_addends:\n",
    "        if product[0] not in prods:\n",
    "            return { 'is_each': False, 'products': None }\n",
    "    \n",
    "    return { 'is_each': True, 'products': products_of_addends}"
   ]
  },
  {
   "cell_type": "code",
   "execution_count": 624,
   "id": "7f1f4258",
   "metadata": {},
   "outputs": [
    {
     "data": {
      "text/plain": [
       "{'is_each': True,\n",
       " 'products': [(18, [2, 9]), (24, [3, 8]), (28, [4, 7]), (30, [5, 6])]}"
      ]
     },
     "execution_count": 624,
     "metadata": {},
     "output_type": "execute_result"
    }
   ],
   "source": [
    "each_products_in_list(11)"
   ]
  },
  {
   "cell_type": "code",
   "execution_count": 614,
   "id": "349879fd",
   "metadata": {},
   "outputs": [
    {
     "data": {
      "text/plain": [
       "[[2, 9], [3, 6]]"
      ]
     },
     "execution_count": 614,
     "metadata": {},
     "output_type": "execute_result"
    }
   ],
   "source": [
    "get_multipliers(18)"
   ]
  },
  {
   "cell_type": "code",
   "execution_count": 607,
   "id": "6d63a951",
   "metadata": {},
   "outputs": [
    {
     "data": {
      "text/plain": [
       "{'is_each': True, 'products': []}"
      ]
     },
     "execution_count": 607,
     "metadata": {},
     "output_type": "execute_result"
    }
   ],
   "source": [
    "each_products_in_list(4)"
   ]
  },
  {
   "cell_type": "code",
   "execution_count": null,
   "id": "4782fa70",
   "metadata": {},
   "outputs": [],
   "source": []
  },
  {
   "cell_type": "code",
   "execution_count": null,
   "id": "cc6044b3",
   "metadata": {},
   "outputs": [],
   "source": []
  },
  {
   "cell_type": "code",
   "execution_count": null,
   "id": "cb22d879",
   "metadata": {},
   "outputs": [],
   "source": []
  },
  {
   "cell_type": "code",
   "execution_count": null,
   "id": "62beac26",
   "metadata": {},
   "outputs": [],
   "source": []
  },
  {
   "cell_type": "code",
   "execution_count": null,
   "id": "7b3c3aca",
   "metadata": {},
   "outputs": [],
   "source": []
  },
  {
   "cell_type": "code",
   "execution_count": null,
   "id": "fcd00076",
   "metadata": {},
   "outputs": [],
   "source": []
  },
  {
   "cell_type": "code",
   "execution_count": 684,
   "id": "38383bfe",
   "metadata": {},
   "outputs": [],
   "source": [
    "sums_with_addends = []\n",
    "sums = []\n",
    "for num in probable_sums:\n",
    "    addends = each_products_in_list(num)\n",
    "    if addends['is_each']:\n",
    "        sums_with_addends.append((num, addends['products']))\n",
    "        sums.append(num)"
   ]
  },
  {
   "cell_type": "markdown",
   "id": "4c07794f",
   "metadata": {},
   "source": [
    "### Prod: then I know the numbers"
   ]
  },
  {
   "cell_type": "code",
   "execution_count": 685,
   "id": "515cea72",
   "metadata": {},
   "outputs": [],
   "source": [
    "# function to get unique values\n",
    "def unique(list):\n",
    "    unique_list = []\n",
    "    for x in list:\n",
    "        if x not in unique_list:\n",
    "            unique_list.append(x)\n",
    "    return unique_list"
   ]
  },
  {
   "cell_type": "code",
   "execution_count": 686,
   "id": "4ac9abab",
   "metadata": {},
   "outputs": [],
   "source": [
    "after_third_expression = []\n",
    "for num in sums:\n",
    "    after_third_expression.extend(each_products_in_list(num)['products'])\n",
    "\n",
    "after_third_expression = unique(after_third_expression)"
   ]
  },
  {
   "cell_type": "code",
   "execution_count": 687,
   "id": "ffe62171",
   "metadata": {},
   "outputs": [],
   "source": [
    "multipliers_sum = []\n",
    "for num in after_third_expression:\n",
    "    multipliers = get_multipliers(num[0])\n",
    "    multipliers_sum.append((num, [mult[0] + mult[1] for mult in multipliers]))"
   ]
  },
  {
   "cell_type": "code",
   "execution_count": 688,
   "id": "a3ef05d8",
   "metadata": {},
   "outputs": [],
   "source": [
    "def each_sums_in_sums_list(list):\n",
    "    for sum in list:\n",
    "        if sum not in sums:\n",
    "            return False\n",
    "    return True"
   ]
  },
  {
   "cell_type": "code",
   "execution_count": 689,
   "id": "73db5ef0",
   "metadata": {},
   "outputs": [],
   "source": [
    "products = []\n",
    "for item in multipliers_sum:\n",
    "    if each_sums_in_sums_list(item[1]):\n",
    "        products.append(item[0])"
   ]
  },
  {
   "cell_type": "code",
   "execution_count": 693,
   "id": "1dfa274c",
   "metadata": {},
   "outputs": [
    {
     "data": {
      "text/plain": [
       "[(102, [6, 17]),\n",
       " (286, [13, 22]),\n",
       " (102, [3, 34]),\n",
       " (186, [6, 31]),\n",
       " (286, [11, 26]),\n",
       " (322, [14, 23]),\n",
       " (310, [10, 31]),\n",
       " (370, [10, 37]),\n",
       " (102, [2, 51]),\n",
       " (282, [6, 47]),\n",
       " (322, [7, 46]),\n",
       " (212, [4, 53]),\n",
       " (318, [6, 53]),\n",
       " (186, [3, 62]),\n",
       " (244, [4, 61]),\n",
       " (354, [6, 59]),\n",
       " (310, [5, 62]),\n",
       " (366, [6, 61]),\n",
       " (268, [4, 67]),\n",
       " (292, [4, 73]),\n",
       " (370, [5, 74]),\n",
       " (316, [4, 79]),\n",
       " (332, [4, 83]),\n",
       " (356, [4, 89]),\n",
       " (186, [2, 93]),\n",
       " (282, [3, 94]),\n",
       " (388, [4, 97])]"
      ]
     },
     "execution_count": 693,
     "metadata": {},
     "output_type": "execute_result"
    }
   ],
   "source": [
    "products"
   ]
  },
  {
   "cell_type": "code",
   "execution_count": 709,
   "id": "19d43adb",
   "metadata": {},
   "outputs": [
    {
     "name": "stdout",
     "output_type": "stream",
     "text": [
      "products---> 102\n",
      "multipliers---> [6, 17]\n",
      "sums--of--multipliers> 23\n",
      "\n",
      "products---> 286\n",
      "multipliers---> [13, 22]\n",
      "sums--of--multipliers> 35\n",
      "\n",
      "products---> 102\n",
      "multipliers---> [3, 34]\n",
      "sums--of--multipliers> 37\n",
      "\n",
      "products---> 186\n",
      "multipliers---> [6, 31]\n",
      "sums--of--multipliers> 37\n",
      "\n",
      "products---> 286\n",
      "multipliers---> [11, 26]\n",
      "sums--of--multipliers> 37\n",
      "\n",
      "products---> 322\n",
      "multipliers---> [14, 23]\n",
      "sums--of--multipliers> 37\n",
      "\n",
      "products---> 310\n",
      "multipliers---> [10, 31]\n",
      "sums--of--multipliers> 41\n",
      "\n",
      "products---> 370\n",
      "multipliers---> [10, 37]\n",
      "sums--of--multipliers> 47\n",
      "\n",
      "products---> 102\n",
      "multipliers---> [2, 51]\n",
      "sums--of--multipliers> 53\n",
      "\n",
      "products---> 282\n",
      "multipliers---> [6, 47]\n",
      "sums--of--multipliers> 53\n",
      "\n",
      "products---> 322\n",
      "multipliers---> [7, 46]\n",
      "sums--of--multipliers> 53\n",
      "\n",
      "products---> 212\n",
      "multipliers---> [4, 53]\n",
      "sums--of--multipliers> 57\n",
      "\n",
      "products---> 318\n",
      "multipliers---> [6, 53]\n",
      "sums--of--multipliers> 59\n",
      "\n",
      "products---> 186\n",
      "multipliers---> [3, 62]\n",
      "sums--of--multipliers> 65\n",
      "\n",
      "products---> 244\n",
      "multipliers---> [4, 61]\n",
      "sums--of--multipliers> 65\n",
      "\n",
      "products---> 354\n",
      "multipliers---> [6, 59]\n",
      "sums--of--multipliers> 65\n",
      "\n",
      "products---> 310\n",
      "multipliers---> [5, 62]\n",
      "sums--of--multipliers> 67\n",
      "\n",
      "products---> 366\n",
      "multipliers---> [6, 61]\n",
      "sums--of--multipliers> 67\n",
      "\n",
      "products---> 268\n",
      "multipliers---> [4, 67]\n",
      "sums--of--multipliers> 71\n",
      "\n",
      "products---> 292\n",
      "multipliers---> [4, 73]\n",
      "sums--of--multipliers> 77\n",
      "\n",
      "products---> 370\n",
      "multipliers---> [5, 74]\n",
      "sums--of--multipliers> 79\n",
      "\n",
      "products---> 316\n",
      "multipliers---> [4, 79]\n",
      "sums--of--multipliers> 83\n",
      "\n",
      "products---> 332\n",
      "multipliers---> [4, 83]\n",
      "sums--of--multipliers> 87\n",
      "\n",
      "products---> 356\n",
      "multipliers---> [4, 89]\n",
      "sums--of--multipliers> 93\n",
      "\n",
      "products---> 186\n",
      "multipliers---> [2, 93]\n",
      "sums--of--multipliers> 95\n",
      "\n",
      "products---> 282\n",
      "multipliers---> [3, 94]\n",
      "sums--of--multipliers> 97\n",
      "\n",
      "products---> 388\n",
      "multipliers---> [4, 97]\n",
      "sums--of--multipliers> 101\n",
      "\n"
     ]
    }
   ],
   "source": [
    "sums_of_multipliers = []\n",
    "for prod in products:\n",
    "#     multipliers = get_multipliers(prod)\n",
    "    sums_of_multipliers.append((prod[0], prod[1][0] + prod[1][1], prod[1]))\n",
    "\n",
    "    print('products--->', prod[0])\n",
    "    print('multipliers--->', prod[1])\n",
    "    print('sums--of--multipliers>', prod[1][0] + prod[1][1])\n",
    "    print()"
   ]
  },
  {
   "cell_type": "code",
   "execution_count": 711,
   "id": "9ae24e02",
   "metadata": {},
   "outputs": [],
   "source": [
    "# sums_of_multipliers"
   ]
  },
  {
   "cell_type": "code",
   "execution_count": null,
   "id": "b5d02cbe",
   "metadata": {},
   "outputs": [],
   "source": [
    "# (102, 23, [6, 17]),\n",
    "#  (286, 35, [13, 22]),\n",
    "# - (102, 37, [3, 34]),\n",
    "# - (186, 37, [6, 31]),\n",
    "# - (286, 37, [11, 26]),\n",
    "# - (322, 37, [14, 23]),\n",
    "# - (310, 41, [10, 31]),\n",
    "# - (370, 47, [10, 37]),\n",
    "# - (102, 53, [2, 51]),\n",
    "# - (282, 53, [6, 47]),\n",
    "# - (322, 53, [7, 46]),\n",
    " (212, 57, [4, 53]),\n",
    " (318, 59, [6, 53]),\n",
    "# - (186, 65, [3, 62]),\n",
    "# - (244, 65, [4, 61]),\n",
    "# - (354, 65, [6, 59]),\n",
    "# - (310, 67, [5, 62]),\n",
    "# - (366, 67, [6, 61]),\n",
    " (268, 71, [4, 67]),\n",
    " (292, 77, [4, 73]),\n",
    "# - (370, 79, [5, 74]),\n",
    " (316, 83, [4, 79]),\n",
    " (332, 87, [4, 83]),\n",
    " (356, 93, [4, 89]),\n",
    "# - (186, 95, [2, 93]),\n",
    "# - (282, 97, [3, 94]),\n",
    " (388, 101, [4, 97])"
   ]
  }
 ],
 "metadata": {
  "kernelspec": {
   "display_name": "p38_env",
   "language": "python",
   "name": "p38_env"
  },
  "language_info": {
   "codemirror_mode": {
    "name": "ipython",
    "version": 3
   },
   "file_extension": ".py",
   "mimetype": "text/x-python",
   "name": "python",
   "nbconvert_exporter": "python",
   "pygments_lexer": "ipython3",
   "version": "3.8.10"
  }
 },
 "nbformat": 4,
 "nbformat_minor": 5
}
