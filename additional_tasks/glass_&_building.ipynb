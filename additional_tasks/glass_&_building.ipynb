{
 "cells": [
  {
   "cell_type": "code",
   "execution_count": 2,
   "id": "eff715bc",
   "metadata": {},
   "outputs": [],
   "source": [
    "import math"
   ]
  },
  {
   "cell_type": "code",
   "execution_count": 22,
   "id": "97c5f1ba",
   "metadata": {},
   "outputs": [],
   "source": [
    "def how_much_steps(glasses=2, floors=10):\n",
    "    '''\n",
    "    --> it returns how much steps need to cover specified 'floors'\n",
    "    '''\n",
    "    for floor in range(1, floors + 1): # check for each number of steps (starts from 1)\n",
    "        covered_floors = 0\n",
    "        \n",
    "        for count, step in enumerate(range(1, floor + 1)[::-1]): # count how much floors we can cover at each step\n",
    "            covered_floors += step\n",
    "                    \n",
    "        if covered_floors >= floors: #search min number of steps\n",
    "            return f'in {floor} steps'\n",
    "        covered_floors = 0 # reset covered floors"
   ]
  },
  {
   "cell_type": "code",
   "execution_count": 23,
   "id": "614bbe7e",
   "metadata": {
    "scrolled": true
   },
   "outputs": [
    {
     "data": {
      "text/plain": [
       "'in 14 steps'"
      ]
     },
     "execution_count": 23,
     "metadata": {},
     "output_type": "execute_result"
    }
   ],
   "source": [
    "how_much_steps(floors=100)"
   ]
  },
  {
   "cell_type": "code",
   "execution_count": null,
   "id": "936a0b66",
   "metadata": {},
   "outputs": [],
   "source": []
  },
  {
   "cell_type": "code",
   "execution_count": 24,
   "id": "fbe22ab9",
   "metadata": {},
   "outputs": [],
   "source": [
    "def recursive_how_much_steps(steps):\n",
    "    '''\n",
    "    -->it returns a value that means how much floors we can cover by specified 'steps'\n",
    "    '''\n",
    "    if steps == 1:\n",
    "        return steps\n",
    "    else:\n",
    "        return steps + recursive(steps - 1)"
   ]
  },
  {
   "cell_type": "code",
   "execution_count": 25,
   "id": "93d8dd4a",
   "metadata": {},
   "outputs": [
    {
     "data": {
      "text/plain": [
       "3"
      ]
     },
     "execution_count": 25,
     "metadata": {},
     "output_type": "execute_result"
    }
   ],
   "source": [
    "recursive(2)"
   ]
  },
  {
   "cell_type": "code",
   "execution_count": null,
   "id": "1721b049",
   "metadata": {},
   "outputs": [],
   "source": []
  },
  {
   "cell_type": "code",
   "execution_count": 26,
   "id": "e9b61fd2",
   "metadata": {},
   "outputs": [],
   "source": [
    "def aritmetic_find_num_steps(glass=2, floors=10):\n",
    "    a, b, c = 1, 1, (-2 * floors)\n",
    "    D = b**2 - 4*a*c\n",
    "    steps = math.ceil((-b + math.sqrt(D)) / (2 * a))\n",
    "    \n",
    "    return steps"
   ]
  },
  {
   "cell_type": "code",
   "execution_count": 27,
   "id": "9ac676f9",
   "metadata": {},
   "outputs": [
    {
     "data": {
      "text/plain": [
       "4"
      ]
     },
     "execution_count": 27,
     "metadata": {},
     "output_type": "execute_result"
    }
   ],
   "source": [
    "aritmetic_find_num_steps(2, 10)"
   ]
  },
  {
   "cell_type": "code",
   "execution_count": 9,
   "id": "b31466cb",
   "metadata": {},
   "outputs": [
    {
     "name": "stdout",
     "output_type": "stream",
     "text": [
      "1.57 µs ± 54.2 ns per loop (mean ± std. dev. of 7 runs, 1000000 loops each)\n"
     ]
    }
   ],
   "source": [
    "%timeit aritmetic_find_num_steps(2, 10)"
   ]
  },
  {
   "cell_type": "code",
   "execution_count": 10,
   "id": "40a29295",
   "metadata": {},
   "outputs": [
    {
     "name": "stdout",
     "output_type": "stream",
     "text": [
      "7.53 µs ± 28.8 ns per loop (mean ± std. dev. of 7 runs, 100000 loops each)\n"
     ]
    }
   ],
   "source": [
    "%timeit how_much_steps(floors=10)"
   ]
  },
  {
   "cell_type": "code",
   "execution_count": null,
   "id": "4ad64320",
   "metadata": {},
   "outputs": [],
   "source": []
  },
  {
   "cell_type": "code",
   "execution_count": 28,
   "id": "62e21afc",
   "metadata": {},
   "outputs": [],
   "source": [
    "def find_max_floor(glasses, steps):\n",
    "    if glasses <= 0:\n",
    "        return 'wrong glasses value'\n",
    "    elif glasses == 1:\n",
    "        return f'{steps} step covered {1} floor with {glasses} glass'\n",
    "    \n",
    "    max_floor = steps\n",
    "    if glasses == 2:\n",
    "        max_floor = recursive_how_much_steps(steps)\n",
    "        return max_floor\n",
    "    elif glasses == 3:\n",
    "        for step in range(1, steps)[::-1]:\n",
    "            max_floor += recursive_how_much_steps(step)\n",
    "    else:\n",
    "        for step in range(1, steps)[::-1]:\n",
    "            max_floor += find_max_floor(glasses-1, steps-step)\n",
    "    return max_floor"
   ]
  },
  {
   "cell_type": "code",
   "execution_count": 29,
   "id": "e4e9cf3c",
   "metadata": {},
   "outputs": [
    {
     "data": {
      "text/plain": [
       "15"
      ]
     },
     "execution_count": 29,
     "metadata": {},
     "output_type": "execute_result"
    }
   ],
   "source": [
    "find_max_floor(4, 4)"
   ]
  },
  {
   "cell_type": "code",
   "execution_count": 32,
   "id": "e19eb8ee",
   "metadata": {},
   "outputs": [
    {
     "data": {
      "text/plain": [
       "1023"
      ]
     },
     "execution_count": 32,
     "metadata": {},
     "output_type": "execute_result"
    }
   ],
   "source": [
    "find_max_floor(5, 11)"
   ]
  }
 ],
 "metadata": {
  "kernelspec": {
   "display_name": "p38_env",
   "language": "python",
   "name": "p38_env"
  },
  "language_info": {
   "codemirror_mode": {
    "name": "ipython",
    "version": 3
   },
   "file_extension": ".py",
   "mimetype": "text/x-python",
   "name": "python",
   "nbconvert_exporter": "python",
   "pygments_lexer": "ipython3",
   "version": "3.8.10"
  }
 },
 "nbformat": 4,
 "nbformat_minor": 5
}
