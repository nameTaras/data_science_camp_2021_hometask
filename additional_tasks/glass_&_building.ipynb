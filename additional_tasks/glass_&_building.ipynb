{
 "cells": [
  {
   "cell_type": "code",
   "execution_count": 108,
   "id": "97c5f1ba",
   "metadata": {},
   "outputs": [],
   "source": [
    "def how_much_steps(glasses=2, floors=10):\n",
    "    '''\n",
    "    --> it returns how much steps need to cover specified 'floors'\n",
    "    '''\n",
    "    for floor in range(1, floors + 1): # check for each number of steps (starts from 1)\n",
    "        covered_floors = 0\n",
    "        print(f'number of steps: {floor}')\n",
    "        \n",
    "        for count, step in enumerate(range(1, floor + 1)[::-1]): # count how much floors we can cover at each step\n",
    "            covered_floors += step\n",
    "            print(f'step: {count + 1}, floor: {covered_floors}') # if the glass is not broken at each step\n",
    "            \n",
    "        print(f'with {floor} steps we cover {covered_floors} floors')\n",
    "        print('')\n",
    "        \n",
    "        if covered_floors >= floors: #search min number of steps\n",
    "            return f'in {floor} steps'\n",
    "        covered_floors = 0 # reset covered floors"
   ]
  },
  {
   "cell_type": "code",
   "execution_count": 109,
   "id": "614bbe7e",
   "metadata": {},
   "outputs": [
    {
     "name": "stdout",
     "output_type": "stream",
     "text": [
      "number of steps: 1\n",
      "step: 1, floor: 1\n",
      "with 1 steps we cover 1 floors\n",
      "\n",
      "number of steps: 2\n",
      "step: 1, floor: 2\n",
      "step: 2, floor: 3\n",
      "with 2 steps we cover 3 floors\n",
      "\n",
      "number of steps: 3\n",
      "step: 1, floor: 3\n",
      "step: 2, floor: 5\n",
      "step: 3, floor: 6\n",
      "with 3 steps we cover 6 floors\n",
      "\n",
      "number of steps: 4\n",
      "step: 1, floor: 4\n",
      "step: 2, floor: 7\n",
      "step: 3, floor: 9\n",
      "step: 4, floor: 10\n",
      "with 4 steps we cover 10 floors\n",
      "\n"
     ]
    },
    {
     "data": {
      "text/plain": [
       "'in 4 steps'"
      ]
     },
     "execution_count": 109,
     "metadata": {},
     "output_type": "execute_result"
    }
   ],
   "source": [
    "how_much_steps(floors=10)"
   ]
  },
  {
   "cell_type": "code",
   "execution_count": null,
   "id": "936a0b66",
   "metadata": {},
   "outputs": [],
   "source": []
  },
  {
   "cell_type": "code",
   "execution_count": 110,
   "id": "fbe22ab9",
   "metadata": {},
   "outputs": [],
   "source": [
    "def recursive(steps, glasses=2, floors=10):\n",
    "    '''\n",
    "    -->it returns a value that means how much floors we can cover by specified 'steps'\n",
    "    '''\n",
    "    if steps == 1:\n",
    "        return steps\n",
    "    else:\n",
    "        return steps + recursive(steps - 1)"
   ]
  },
  {
   "cell_type": "code",
   "execution_count": 111,
   "id": "93d8dd4a",
   "metadata": {},
   "outputs": [
    {
     "data": {
      "text/plain": [
       "15"
      ]
     },
     "execution_count": 111,
     "metadata": {},
     "output_type": "execute_result"
    }
   ],
   "source": [
    "recursive(steps=5)"
   ]
  },
  {
   "cell_type": "code",
   "execution_count": null,
   "id": "3d33fb02",
   "metadata": {},
   "outputs": [],
   "source": []
  }
 ],
 "metadata": {
  "kernelspec": {
   "display_name": "p38_env",
   "language": "python",
   "name": "p38_env"
  },
  "language_info": {
   "codemirror_mode": {
    "name": "ipython",
    "version": 3
   },
   "file_extension": ".py",
   "mimetype": "text/x-python",
   "name": "python",
   "nbconvert_exporter": "python",
   "pygments_lexer": "ipython3",
   "version": "3.8.10"
  }
 },
 "nbformat": 4,
 "nbformat_minor": 5
}
