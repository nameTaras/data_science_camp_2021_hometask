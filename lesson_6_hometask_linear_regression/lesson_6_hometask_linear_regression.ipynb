{
 "cells": [
  {
   "cell_type": "markdown",
   "id": "add51118",
   "metadata": {},
   "source": [
    "<font color = green >\n",
    "\n",
    "## Set interactive backend and import necessary packages\n",
    "    \n",
    "</font>"
   ]
  },
  {
   "cell_type": "code",
   "execution_count": 1,
   "id": "d5e99722",
   "metadata": {},
   "outputs": [],
   "source": [
    "%matplotlib notebook"
   ]
  },
  {
   "cell_type": "code",
   "execution_count": 2,
   "id": "32348c92",
   "metadata": {},
   "outputs": [],
   "source": [
    "import matplotlib.pyplot as plt\n",
    "import pandas as pd\n",
    "import numpy as np"
   ]
  },
  {
   "cell_type": "code",
   "execution_count": 3,
   "id": "5595ee6a",
   "metadata": {},
   "outputs": [],
   "source": [
    "from sklearn.model_selection import train_test_split\n",
    "from sklearn.linear_model import LinearRegression\n",
    "from sklearn.linear_model import Ridge\n",
    "from sklearn.linear_model import Lasso\n",
    "from sklearn.preprocessing import PolynomialFeatures\n",
    "from sklearn.preprocessing import StandardScaler\n",
    "from sklearn.preprocessing import MinMaxScaler"
   ]
  },
  {
   "cell_type": "markdown",
   "id": "a246270a",
   "metadata": {},
   "source": [
    "<font color = green >\n",
    "\n",
    "## Load diabetes data set \n",
    "</font>"
   ]
  },
  {
   "cell_type": "code",
   "execution_count": 4,
   "id": "4c1f5631",
   "metadata": {},
   "outputs": [],
   "source": [
    "from sklearn.datasets import load_diabetes"
   ]
  },
  {
   "cell_type": "code",
   "execution_count": 15,
   "id": "40ca4831",
   "metadata": {},
   "outputs": [
    {
     "data": {
      "text/plain": [
       "'.. _diabetes_dataset:\\n\\nDiabetes dataset\\n----------------\\n\\nTen baseline variables, age, sex, body mass index, average blood\\npressure, and six blood serum measurements were obtained for each of n =\\n442 diabetes patients, as well as the response of interest, a\\nquantitative measure of disease progression one year after baseline.\\n\\n**Data Set Characteristics:**\\n\\n  :Number of Instances: 442\\n\\n  :Number of Attributes: First 10 columns are numeric predictive values\\n\\n  :Target: Column 11 is a quantitative measure of disease progression one year after baseline\\n\\n  :Attribute Information:\\n      - age     age in years\\n      - sex\\n      - bmi     body mass index\\n      - bp      average blood pressure\\n      - s1      tc, total serum cholesterol\\n      - s2      ldl, low-density lipoproteins\\n      - s3      hdl, high-density lipoproteins\\n      - s4      tch, total cholesterol / HDL\\n      - s5      ltg, possibly log of serum triglycerides level\\n      - s6      glu, blood sugar level\\n\\nNote: Each of these 10 feature variables have been mean centered and scaled by the standard deviation times `n_samples` (i.e. the sum of squares of each column totals 1).\\n\\nSource URL:\\nhttps://www4.stat.ncsu.edu/~boos/var.select/diabetes.html\\n\\nFor more information see:\\nBradley Efron, Trevor Hastie, Iain Johnstone and Robert Tibshirani (2004) \"Least Angle Regression,\" Annals of Statistics (with discussion), 407-499.\\n(https://web.stanford.edu/~hastie/Papers/LARS/LeastAngle_2002.pdf)'"
      ]
     },
     "execution_count": 15,
     "metadata": {},
     "output_type": "execute_result"
    }
   ],
   "source": [
    "feature_names = load_diabetes()['feature_names']\n",
    "load_diabetes().DESCR"
   ]
  },
  {
   "cell_type": "code",
   "execution_count": 6,
   "id": "16967c6c",
   "metadata": {},
   "outputs": [],
   "source": [
    "def get_X_y(features= None, verbose= False):\n",
    "    X, y = load_diabetes(return_X_y=True)\n",
    "\n",
    "    if features is None:\n",
    "        print ('Selecting all features')\n",
    "        \n",
    "    elif type(features) == int or (type(features) == list and len(features)==1):\n",
    "        print ('Selecting one feature: {}'.format(features))\n",
    "        X = X[:,features].reshape(-1,1) # single column \n",
    "    elif type(features) == list: \n",
    "        print ('Selecting features list: {}'.format(features))\n",
    "        X = X[:,features]\n",
    "    else: \n",
    "        print ('wrong format of parameter \"features\"')\n",
    "        return\n",
    "\n",
    "\n",
    "    X_train, X_test, y_train, y_test =  train_test_split(X, y, random_state=2021)\n",
    "    if verbose:\n",
    "        print ('X_train.shape= ',X_train.shape)\n",
    "        print ('y_train.shape= ',y_train.shape)\n",
    "        print ('X_train [:5] = \\n{}'.format(X_train[:5]))\n",
    "        print ('y_train [:5] = \\n{}'.format(y_train[:5]))\n",
    "    return X_train, X_test, y_train, y_test"
   ]
  },
  {
   "cell_type": "code",
   "execution_count": 7,
   "id": "7ee3ae1d",
   "metadata": {},
   "outputs": [
    {
     "name": "stdout",
     "output_type": "stream",
     "text": [
      "Selecting all features\n",
      "X_train.shape=  (331, 10)\n",
      "y_train.shape=  (331,)\n",
      "X_train [:5] = \n",
      "[[-0.06363517 -0.04464164 -0.03315126 -0.03321358  0.00118295  0.02405115\n",
      "  -0.02499266 -0.00259226 -0.02251217 -0.05906719]\n",
      " [ 0.01264814 -0.04464164 -0.02560657 -0.04009932 -0.03046397 -0.04515466\n",
      "   0.0780932  -0.0763945  -0.07212845  0.01134862]\n",
      " [ 0.03807591  0.05068012  0.00888341  0.04252958 -0.04284755 -0.02104223\n",
      "  -0.03971921 -0.00259226 -0.01811827  0.00720652]\n",
      " [-0.07816532  0.05068012  0.07786339  0.05285819  0.07823631  0.0644473\n",
      "   0.02655027 -0.00259226  0.04067226 -0.00936191]\n",
      " [-0.07453279 -0.04464164 -0.0105172  -0.00567061 -0.06623874 -0.0570543\n",
      "  -0.00290283 -0.03949338 -0.0425721  -0.0010777 ]]\n",
      "y_train [:5] = \n",
      "[214.  98. 127. 233. 168.]\n"
     ]
    }
   ],
   "source": [
    "# split to train and test\n",
    "X_train, X_test, y_train, y_test = get_X_y(verbose= True)"
   ]
  },
  {
   "cell_type": "code",
   "execution_count": 8,
   "id": "b0f51200",
   "metadata": {},
   "outputs": [],
   "source": [
    "# normalization\n",
    "scaler = StandardScaler()\n",
    "X_train_scaled = scaler.fit_transform(X_train)\n",
    "X_test_scaled = scaler.transform(X_test)"
   ]
  },
  {
   "cell_type": "markdown",
   "id": "2bbb561c",
   "metadata": {},
   "source": [
    "<font color='green'>\n",
    "\n",
    "## Linear Regression\n",
    "\n",
    "<font>"
   ]
  },
  {
   "cell_type": "code",
   "execution_count": 16,
   "id": "64a29cca",
   "metadata": {},
   "outputs": [
    {
     "name": "stdout",
     "output_type": "stream",
     "text": [
      "Linear Regression\n",
      "R2 train score = 0.5073702774872662\n",
      "R2 test score = 0.5281739698266457\n",
      "b: 148.99287782144947\n",
      "age    -19.685248\n",
      "sex   -240.180431\n",
      "bmi    557.914664\n",
      "bp     251.500900\n",
      "s1    -500.396234\n",
      "s2     275.581227\n",
      "s3     -11.607946\n",
      "s4     154.014790\n",
      "s5     651.170356\n",
      "s6      77.512585\n",
      "dtype: float64\n"
     ]
    }
   ],
   "source": [
    "lin_reg = LinearRegression()\n",
    "lin_reg.fit(X_train, y_train)\n",
    "lin_params = pd.Series(lin_reg.coef_, index=feature_names)\n",
    "\n",
    "print('Linear Regression')\n",
    "print ('R2 train score =', lin_reg.score(X_train, y_train))\n",
    "print ('R2 test score =', lin_reg.score(X_test, y_test))\n",
    "print (f'b: {lin_reg.intercept_}')\n",
    "print(lin_params)"
   ]
  },
  {
   "cell_type": "markdown",
   "id": "67ab2cec",
   "metadata": {},
   "source": [
    "<font color='green'>\n",
    "\n",
    "## Ridge\n",
    "\n",
    "<font>"
   ]
  },
  {
   "cell_type": "code",
   "execution_count": 17,
   "id": "1538d4f3",
   "metadata": {},
   "outputs": [
    {
     "name": "stdout",
     "output_type": "stream",
     "text": [
      "Ridge\n",
      "R2 train score = 0.4227500042714355\n",
      "R2 test score = 0.4342970082842498\n",
      "b: 148.99988868218784\n",
      "age     31.071354\n",
      "sex    -67.812586\n",
      "bmi    284.120464\n",
      "bp     158.308117\n",
      "s1      25.343029\n",
      "s2     -14.631665\n",
      "s3    -130.286878\n",
      "s4     116.412804\n",
      "s5     239.503502\n",
      "s6     108.524335\n",
      "dtype: float64\n"
     ]
    }
   ],
   "source": [
    "ridge_reg = Ridge()\n",
    "ridge_reg.fit(X_train, y_train)\n",
    "ridge_params = pd.Series(ridge_reg.coef_, index=feature_names)\n",
    "\n",
    "print('Ridge')\n",
    "print ('R2 train score =', ridge_reg.score(X_train, y_train))\n",
    "print ('R2 test score =', ridge_reg.score(X_test, y_test))\n",
    "print (f'b: {ridge_reg.intercept_}')\n",
    "print(ridge_params)"
   ]
  },
  {
   "cell_type": "markdown",
   "id": "42a92f3e",
   "metadata": {},
   "source": [
    "<font color='green'>\n",
    "\n",
    "## Lasso\n",
    "\n",
    "<font>"
   ]
  },
  {
   "cell_type": "code",
   "execution_count": 19,
   "id": "12df5b9f",
   "metadata": {},
   "outputs": [
    {
     "name": "stdout",
     "output_type": "stream",
     "text": [
      "Lasso\n",
      "R2 train score = 0.366020102437113\n",
      "R2 test score = 0.3392074106660581\n",
      "b: 149.4852586610367\n",
      "age      0.000000\n",
      "sex     -0.000000\n",
      "bmi    379.304704\n",
      "bp       0.000000\n",
      "s1       0.000000\n",
      "s2       0.000000\n",
      "s3      -0.000000\n",
      "s4       0.000000\n",
      "s5     317.427638\n",
      "s6       0.000000\n",
      "dtype: float64\n"
     ]
    }
   ],
   "source": [
    "lasso_reg = Lasso()\n",
    "lasso_reg.fit(X_train, y_train)\n",
    "lasso_params = pd.Series(lasso_reg.coef_, index=feature_names)\n",
    "\n",
    "print('Lasso')\n",
    "print ('R2 train score =', lasso_reg.score(X_train, y_train))\n",
    "print ('R2 test score =', lasso_reg.score(X_test, y_test))\n",
    "print (f'b: {lasso_reg.intercept_}')\n",
    "print(lasso_params)"
   ]
  },
  {
   "cell_type": "markdown",
   "id": "b6335f3a",
   "metadata": {},
   "source": [
    "<font color = green >\n",
    "\n",
    "## Polynomial + Linear Regression\n",
    "\n",
    "</font>"
   ]
  },
  {
   "cell_type": "code",
   "execution_count": 20,
   "id": "d9a7ca56",
   "metadata": {},
   "outputs": [],
   "source": [
    "poly = PolynomialFeatures(degree=2, include_bias=False)\n",
    "X_train_poly = poly.fit_transform(X_train)\n",
    "X_test_poly = poly.transform(X_test)"
   ]
  },
  {
   "cell_type": "markdown",
   "id": "ba283cc9",
   "metadata": {},
   "source": [
    "<font color = green >\n",
    "\n",
    "### scale features\n",
    "\n",
    "</font>"
   ]
  },
  {
   "cell_type": "code",
   "execution_count": 21,
   "id": "e7820326",
   "metadata": {},
   "outputs": [],
   "source": [
    "scaler = StandardScaler()\n",
    "X_train_poly_scaled = scaler.fit_transform(X_train_poly)\n",
    "X_test_poly_scaled = scaler.transform(X_test_poly)"
   ]
  },
  {
   "cell_type": "code",
   "execution_count": 22,
   "id": "c6314460",
   "metadata": {},
   "outputs": [
    {
     "name": "stdout",
     "output_type": "stream",
     "text": [
      "Polynomial + Linear Regression\n",
      "R2 train score = 0.6207797301635398\n",
      "R2 test score = 0.3471990138057319\n",
      "b: 56.795251863713204\n"
     ]
    }
   ],
   "source": [
    "poly_lin_reg = LinearRegression()\n",
    "poly_lin_reg.fit(X_train_poly, y_train)\n",
    "\n",
    "print ('Polynomial + Linear Regression')\n",
    "print ('R2 train score =', poly_lin_reg.score(X_train_poly, y_train))\n",
    "print ('R2 test score =', poly_lin_reg.score(X_test_poly, y_test))\n",
    "print (f'b: {poly_lin_reg.intercept_}')"
   ]
  },
  {
   "cell_type": "code",
   "execution_count": 23,
   "id": "876a5847",
   "metadata": {},
   "outputs": [
    {
     "name": "stdout",
     "output_type": "stream",
     "text": [
      "Polynomial + Linear Regression\n",
      "R2 train score = 0.6173506235243134\n",
      "R2 test score = 0.3612960569288898\n",
      "b: 165.13225465251435\n"
     ]
    }
   ],
   "source": [
    "# with scaled features\n",
    "poly_lin_reg_scaled = LinearRegression()\n",
    "poly_lin_reg_scaled.fit(X_train_poly_scaled, y_train)\n",
    "\n",
    "print ('Polynomial + Linear Regression')\n",
    "print ('R2 train score =', poly_lin_reg_scaled.score(X_train_poly_scaled, y_train))\n",
    "print ('R2 test score =', poly_lin_reg_scaled.score(X_test_poly_scaled, y_test))\n",
    "print (f'b: {poly_lin_reg_scaled.intercept_}')"
   ]
  },
  {
   "cell_type": "markdown",
   "id": "4a707ee5",
   "metadata": {},
   "source": [
    "<font color = green >\n",
    "\n",
    "## Polynomial + Ridge\n",
    "\n",
    "</font>"
   ]
  },
  {
   "cell_type": "code",
   "execution_count": 24,
   "id": "54e82db2",
   "metadata": {},
   "outputs": [
    {
     "name": "stdout",
     "output_type": "stream",
     "text": [
      "Polynomial + Ridge\n",
      "R2 train score = 0.423626095551196\n",
      "R2 test score = 0.4344256260511967\n"
     ]
    }
   ],
   "source": [
    "poly_ridge = Ridge()\n",
    "poly_ridge.fit(X_train_poly, y_train)\n",
    "\n",
    "print ('Polynomial + Ridge')\n",
    "print ('R2 train score =', poly_ridge.score(X_train_poly, y_train))\n",
    "print ('R2 test score =', poly_ridge.score(X_test_poly, y_test))"
   ]
  },
  {
   "cell_type": "markdown",
   "id": "977e4f46",
   "metadata": {},
   "source": [
    "<font color = green >\n",
    "\n",
    "## Polynomial + Lasso\n",
    "\n",
    "</font>"
   ]
  },
  {
   "cell_type": "code",
   "execution_count": 25,
   "id": "2f49aca2",
   "metadata": {},
   "outputs": [
    {
     "name": "stdout",
     "output_type": "stream",
     "text": [
      "Polynomial + Ridge\n",
      "R2 train score = 0.366020102437113\n",
      "R2 test score = 0.3392074106660581\n"
     ]
    }
   ],
   "source": [
    "poly_ridge = Lasso()\n",
    "poly_ridge.fit(X_train_poly, y_train)\n",
    "\n",
    "print ('Polynomial + Ridge')\n",
    "print ('R2 train score =', poly_ridge.score(X_train_poly, y_train))\n",
    "print ('R2 test score =', poly_ridge.score(X_test_poly, y_test))"
   ]
  }
 ],
 "metadata": {
  "kernelspec": {
   "display_name": "p38_env",
   "language": "python",
   "name": "p38_env"
  },
  "language_info": {
   "codemirror_mode": {
    "name": "ipython",
    "version": 3
   },
   "file_extension": ".py",
   "mimetype": "text/x-python",
   "name": "python",
   "nbconvert_exporter": "python",
   "pygments_lexer": "ipython3",
   "version": "3.8.10"
  }
 },
 "nbformat": 4,
 "nbformat_minor": 5
}
