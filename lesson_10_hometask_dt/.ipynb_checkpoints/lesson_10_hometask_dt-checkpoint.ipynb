{
 "cells": [
  {
   "cell_type": "markdown",
   "id": "db01d927",
   "metadata": {},
   "source": [
    "<font color = green >\n",
    "    \n",
    "# Home Task \n",
    "\n",
    "</font>"
   ]
  },
  {
   "cell_type": "code",
   "execution_count": 1,
   "id": "ae57e352",
   "metadata": {},
   "outputs": [],
   "source": [
    "from sklearn.preprocessing import StandardScaler\n",
    "from sklearn.model_selection import train_test_split\n",
    "\n",
    "from sklearn.ensemble import GradientBoostingClassifier\n",
    "from sklearn.ensemble import RandomForestClassifier\n",
    "from sklearn.tree import DecisionTreeClassifier\n",
    "from xgboost import XGBClassifier\n",
    "from sklearn import tree\n",
    "\n",
    "import graphviz\n",
    "import numpy as np\n",
    "import matplotlib.pyplot as plt"
   ]
  },
  {
   "cell_type": "markdown",
   "id": "d9ad4b6d",
   "metadata": {},
   "source": [
    "<font color = green>\n",
    "\n",
    "##  Brest cancer  dataset\n",
    "</font>"
   ]
  },
  {
   "cell_type": "code",
   "execution_count": 38,
   "id": "85920b38",
   "metadata": {},
   "outputs": [
    {
     "name": "stdout",
     "output_type": "stream",
     "text": [
      "labels: ['malignant' 'benign']\n",
      "features: ['mean radius' 'mean texture' 'mean perimeter' 'mean area'\n",
      " 'mean smoothness' 'mean compactness' 'mean concavity'\n",
      " 'mean concave points' 'mean symmetry' 'mean fractal dimension'\n",
      " 'radius error' 'texture error' 'perimeter error' 'area error'\n",
      " 'smoothness error' 'compactness error' 'concavity error'\n",
      " 'concave points error' 'symmetry error' 'fractal dimension error'\n",
      " 'worst radius' 'worst texture' 'worst perimeter' 'worst area'\n",
      " 'worst smoothness' 'worst compactness' 'worst concavity'\n",
      " 'worst concave points' 'worst symmetry' 'worst fractal dimension']\n",
      "X.shape: (569, 30)\n"
     ]
    }
   ],
   "source": [
    "from sklearn.datasets import load_breast_cancer\n",
    "cancer = load_breast_cancer()\n",
    "X, y, labels, features = cancer.data, cancer.target, cancer.target_names, cancer.feature_names\n",
    "print ('labels:',labels)\n",
    "print ('features:', features)\n",
    "print ('X.shape:', X.shape)\n",
    "\n",
    "X_train, X_test, y_train, y_test = train_test_split(X, y, random_state=2018)"
   ]
  },
  {
   "cell_type": "markdown",
   "id": "5518c51c",
   "metadata": {},
   "source": [
    "<font color = green>\n",
    "\n",
    "##  DecisionTree \n",
    "\n",
    "</font>"
   ]
  },
  {
   "cell_type": "code",
   "execution_count": 39,
   "id": "5a6fdbd8",
   "metadata": {},
   "outputs": [
    {
     "name": "stdout",
     "output_type": "stream",
     "text": [
      "train accuracy = 99.296%\n",
      "test accuracy = 95.105%\n"
     ]
    },
    {
     "data": {
      "text/plain": [
       "'Source.gv.pdf'"
      ]
     },
     "execution_count": 39,
     "metadata": {},
     "output_type": "execute_result"
    }
   ],
   "source": [
    "# YOUR_CODE. create the classifier and train it \n",
    "# START_CODE \n",
    "clf = DecisionTreeClassifier(criterion='entropy', random_state=20, max_depth=4).fit(X_train, y_train)\n",
    "# END_CODE \n",
    "\n",
    "print(f'train accuracy = {clf.score(X_train, y_train):.3%}')\n",
    "print(f'test accuracy = {clf.score(X_test, y_test):.3%}')\n",
    "graph_viz = tree.export_graphviz(clf, out_file=None, feature_names=features, class_names=labels, filled = True)\n",
    "graph = graphviz.Source(graph_viz)\n",
    "graph.view(cleanup=True) # cleanup (bool) – Delete the source file after rendering."
   ]
  },
  {
   "cell_type": "markdown",
   "id": "673fd986",
   "metadata": {},
   "source": [
    "<font color = green>\n",
    "\n",
    "##  RandomForest\n",
    "\n",
    "</font>"
   ]
  },
  {
   "cell_type": "code",
   "execution_count": 40,
   "id": "6f3b6caa",
   "metadata": {},
   "outputs": [
    {
     "name": "stdout",
     "output_type": "stream",
     "text": [
      "train accuracy = 100.000%\n",
      "test accuracy = 92.308%\n"
     ]
    }
   ],
   "source": [
    "# YOUR_CODE.  create the classifier and train it \n",
    "# START_CODE \n",
    "clf = RandomForestClassifier(\n",
    "    random_state=20,\n",
    "    n_estimators=20,\n",
    "    max_features=29\n",
    ").fit(X_train, y_train)\n",
    "# END_CODE \n",
    "\n",
    "print(f'train accuracy = {clf.score(X_train, y_train):.3%}')\n",
    "print(f'test accuracy = {clf.score (X_test, y_test):.3%}')"
   ]
  },
  {
   "cell_type": "markdown",
   "id": "16f7b6ad",
   "metadata": {},
   "source": [
    "<font color = green>\n",
    "\n",
    "##  Gradient Boosting Decision Trees (GBDT)\n",
    "\n",
    "</font>"
   ]
  },
  {
   "cell_type": "code",
   "execution_count": 41,
   "id": "935a4b6f",
   "metadata": {},
   "outputs": [
    {
     "name": "stdout",
     "output_type": "stream",
     "text": [
      "train accuracy = 98.592%\n",
      "test accuracy = 94.406%\n"
     ]
    }
   ],
   "source": [
    "# YOUR_CODE.  create the classifier and train it \n",
    "# START_CODE \n",
    "clf = GradientBoostingClassifier(learning_rate=0.01, max_depth=3).fit(X_train, y_train)\n",
    "# END_CODE\n",
    "\n",
    "print(f'train accuracy = {clf.score(X_train, y_train):.3%}')\n",
    "print(f'test accuracy = {clf.score(X_test, y_test):.3%}')"
   ]
  },
  {
   "cell_type": "markdown",
   "id": "9d633b7f",
   "metadata": {},
   "source": [
    "<font color = green>\n",
    "\n",
    "##  XGBoost\n",
    "\n",
    "</font>"
   ]
  },
  {
   "cell_type": "code",
   "execution_count": 42,
   "id": "52858106",
   "metadata": {},
   "outputs": [
    {
     "name": "stdout",
     "output_type": "stream",
     "text": [
      "train accuracy = 100.000%\n",
      "test accuracy = 94.406%\n"
     ]
    }
   ],
   "source": [
    "# YOUR_CODE.  create the classifier and train it \n",
    "# START_CODE \n",
    "clf = XGBClassifier(use_label_encoder=False, eval_metric='logloss').fit(X_train, y_train)\n",
    "# END_CODE \n",
    "\n",
    "print(f'train accuracy = {clf.score(X_train, y_train):.3%}')\n",
    "print(f'test accuracy = {clf.score (X_test, y_test):.3%}')"
   ]
  }
 ],
 "metadata": {
  "kernelspec": {
   "display_name": "p38_env",
   "language": "python",
   "name": "p38_env"
  },
  "language_info": {
   "codemirror_mode": {
    "name": "ipython",
    "version": 3
   },
   "file_extension": ".py",
   "mimetype": "text/x-python",
   "name": "python",
   "nbconvert_exporter": "python",
   "pygments_lexer": "ipython3",
   "version": "3.8.10"
  }
 },
 "nbformat": 4,
 "nbformat_minor": 5
}
