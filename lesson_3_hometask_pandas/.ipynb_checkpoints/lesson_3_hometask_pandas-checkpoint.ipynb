{
 "cells": [
  {
   "cell_type": "code",
   "execution_count": 628,
   "id": "709a05e9",
   "metadata": {},
   "outputs": [],
   "source": [
    "import pandas as pd\n",
    "import numpy as np\n",
    "import re"
   ]
  },
  {
   "cell_type": "code",
   "execution_count": 682,
   "id": "ae40d347",
   "metadata": {},
   "outputs": [],
   "source": [
    "# load a list of indicators of energy supply and renewable electricity production\n",
    "# exclude the footer and header information and rename column names\n",
    "energy = pd.read_excel(\n",
    "    'Energy Indicators.xls',\n",
    "    names=['Unnamed: 0', 'Unnamed: 1', 'Country', 'Energy Supply', 'Energy Supply per Capita', '% Renewable'],\n",
    "    skiprows=17,\n",
    "    skipfooter=38\n",
    ")"
   ]
  },
  {
   "cell_type": "code",
   "execution_count": 683,
   "id": "1a7e1f2c",
   "metadata": {},
   "outputs": [],
   "source": [
    "# delete unnecessary columns\n",
    "energy.drop(columns=['Unnamed: 0', 'Unnamed: 1'], inplace=True)"
   ]
  },
  {
   "cell_type": "code",
   "execution_count": 684,
   "id": "378defbe",
   "metadata": {},
   "outputs": [],
   "source": [
    "# function that convert petajoule to gigajoules\n",
    "def petajoules_to_gigajoules(petas):\n",
    "    '''Convert petajoule to gigajoules'''\n",
    "    \n",
    "    gigas_in_peta = 100000\n",
    "    try:\n",
    "        return abs(float(petas) * gigas_in_peta)\n",
    "    except:\n",
    "        x = \"\".join(re.findall(\"\\d+\\.?\\d+\", petas))\n",
    "        if x == \"\":\n",
    "            return np.nan\n",
    "        return abs(float(petas) * gigas_in_peta)"
   ]
  },
  {
   "cell_type": "code",
   "execution_count": 685,
   "id": "e96f6f7e",
   "metadata": {},
   "outputs": [],
   "source": [
    "# Convert Energy Supply to gigajoules\n",
    "energy['Energy Supply'] = energy['Energy Supply'].apply(petajoules_to_gigajoules)"
   ]
  },
  {
   "cell_type": "code",
   "execution_count": 696,
   "id": "2cc22e80",
   "metadata": {},
   "outputs": [],
   "source": [
    "# missing data in ['Energy Supply per Capita'] column replace to nan\n",
    "energy['Energy Supply per Capita'] = energy['Energy Supply per Capita'].apply(\n",
    "    lambda val: np.nan if val == '...' else val\n",
    ")"
   ]
  },
  {
   "cell_type": "code",
   "execution_count": 701,
   "id": "0d7271e8",
   "metadata": {},
   "outputs": [],
   "source": [
    "# new list of some countries 'energy dataframe'\n",
    "list_countries_energy = {\n",
    "    'Republic of Korea': 'South Korea',\n",
    "    'United States of America': 'United States',\n",
    "    'United Kingdom of Great Britain and Northern Ireland': 'United Kingdom',\n",
    "    'China, Hong Kong Special Administrative Region': 'Hong Kong'\n",
    "}\n",
    "\n",
    "# function remove numbers and/or parenthesis in their name\n",
    "def remove_num_and_paran(country):\n",
    "    try:\n",
    "        return re.findall(\n",
    "            '^[^(]*[^\\0-9]',\n",
    "            (list_countries_energy[country] if country in list_countries_energy.keys() else country)\n",
    "        )[0]\n",
    "    except:\n",
    "        return np.nan"
   ]
  },
  {
   "cell_type": "code",
   "execution_count": 702,
   "id": "1928227e",
   "metadata": {},
   "outputs": [],
   "source": [
    "# rename the following list of countries and delete numbers and/or text in parenthesis in their name\n",
    "energy['Country'] = energy['Country'].apply(remove_num_and_paran)"
   ]
  },
  {
   "cell_type": "code",
   "execution_count": 580,
   "id": "7dc5ada9",
   "metadata": {},
   "outputs": [],
   "source": [
    "# load GDP from 1960 to 2015 from World Bank\n",
    "GDP = pd.read_csv(\n",
    "    'API_NY.GDP.MKTP.CD_DS2_en_csv_v2_2531304.csv',\n",
    "    encoding='utf-8',\n",
    "    engine='python',\n",
    "    skiprows=3,\n",
    "    sep=','\n",
    ")\n",
    "GDP.rename(columns={'Country Name': 'Country'}, inplace=True)"
   ]
  },
  {
   "cell_type": "code",
   "execution_count": 581,
   "id": "930cece5",
   "metadata": {},
   "outputs": [],
   "source": [
    "# rename list of some countries 'GDP dataframe'\n",
    "list_countries_GDP = {\n",
    "    'Korea, Rep.': 'South Korea',\n",
    "    'Iran, Islamic Rep.': 'Iran',\n",
    "    'Hong Kong SAR, China': 'Hong Kong'\n",
    "}\n",
    "\n",
    "GDP['Country'] = GDP['Country'].apply(\n",
    "    lambda country: list_countries_GDP[country] if country in list_countries_GDP.keys() else country\n",
    ")"
   ]
  },
  {
   "cell_type": "code",
   "execution_count": 582,
   "id": "0403c70c",
   "metadata": {
    "scrolled": true
   },
   "outputs": [],
   "source": [
    "# load data with ranks countries based on their journal contributions\n",
    "ScimEn = pd.read_excel('scimagojr country rank 1996-2020.xlsx')"
   ]
  },
  {
   "cell_type": "code",
   "execution_count": 583,
   "id": "459d6cc3",
   "metadata": {},
   "outputs": [],
   "source": [
    "# merge Energy, GDP, and ScimEn dataframes\n",
    "tmp = energy.merge(GDP, on=\"Country\", how=\"inner\")\n",
    "joined_dfs = tmp.merge(ScimEn, on=\"Country\", how=\"inner\").set_index('Country')"
   ]
  },
  {
   "cell_type": "markdown",
   "id": "2c361117",
   "metadata": {},
   "source": [
    "# Question 1"
   ]
  },
  {
   "cell_type": "code",
   "execution_count": 714,
   "id": "bc9b9a24",
   "metadata": {},
   "outputs": [],
   "source": [
    "def answer_one():\n",
    "    '''Show the top 15 countries by Scimagojr 2006-2015 \n",
    "    -->return the resulted DataFrame(energy supply, GDP, ranks countries based on their journal contributions) \n",
    "    (20 columns and 15 entries)'''\n",
    "    return joined_dfs.sort_values(by='Rank').iloc[:15]"
   ]
  },
  {
   "cell_type": "markdown",
   "id": "b6adc1fb",
   "metadata": {},
   "source": [
    "# Question 2"
   ]
  },
  {
   "cell_type": "code",
   "execution_count": 716,
   "id": "16b8f68e",
   "metadata": {},
   "outputs": [],
   "source": [
    "def answer_two():\n",
    "    '''Show average GDP over the last 10 years for list of countries\n",
    "    -->return a Series named avgGDP with 15 countries and their average GDP'''\n",
    "    Top15 = answer_one()\n",
    "    avgGDP = (\n",
    "        Top15[['2006', '2007', '2008', '2009', '2010', '2011', '2012', '2013', '2014', '2015']]\n",
    "            .T\n",
    "            .describe()\n",
    "            .mean()\n",
    "            .sort_values(ascending=False)\n",
    "    )\n",
    "    return avgGDP"
   ]
  },
  {
   "cell_type": "markdown",
   "id": "35ca8014",
   "metadata": {},
   "source": [
    "# Question 3¶\n"
   ]
  },
  {
   "cell_type": "code",
   "execution_count": 757,
   "id": "105db16b",
   "metadata": {},
   "outputs": [],
   "source": [
    "def answer_three():\n",
    "    '''Show how much had the GDP changed over the 10 year span for the country with the 6th largest average GDP\n",
    "    -->return a single number'''\n",
    "    Top15 = answer_one()\n",
    "    # get country with the 6th largest average GDP     \n",
    "    country = answer_two().index[5]\n",
    "    ratio = Top15.loc[country]['2006'] / Top15.loc[country]['2015']\n",
    "    return ratio"
   ]
  },
  {
   "cell_type": "markdown",
   "id": "3dc5847f",
   "metadata": {},
   "source": [
    "# Question 4"
   ]
  },
  {
   "cell_type": "code",
   "execution_count": 758,
   "id": "7b6683f8",
   "metadata": {},
   "outputs": [],
   "source": [
    "def answer_four():\n",
    "    '''Function show the maximum value of ratio of Self-Citations to Total Citations\n",
    "    -->return a tuple with the name of the country and the ratio'''\n",
    "    Top15 = answer_one()\n",
    "    ratio_citations = Top15['Self-citations'] / Top15['Citations']\n",
    "    ratio_citations = ration_citations.sort_values(ascending=False)\n",
    "    return (ratio_citations.index[0], ratio_citations[0])"
   ]
  },
  {
   "cell_type": "markdown",
   "id": "412b2e16",
   "metadata": {},
   "source": [
    "# Question 5"
   ]
  },
  {
   "cell_type": "code",
   "execution_count": 760,
   "id": "2421b3b7",
   "metadata": {},
   "outputs": [],
   "source": [
    "def answer_five():\n",
    "    '''Show the third most populous country by specified list\n",
    "    -->return a single string value'''\n",
    "    Top15 = answer_one()\n",
    "    country = (Top15['Energy Supply'] / Top15['Energy Supply per Capita']).sort_values(ascending=False).index[2]\n",
    "    return country"
   ]
  },
  {
   "cell_type": "markdown",
   "id": "6b1f7afe",
   "metadata": {},
   "source": [
    "# Question 6"
   ]
  },
  {
   "cell_type": "code",
   "execution_count": 762,
   "id": "438422b9",
   "metadata": {},
   "outputs": [],
   "source": [
    "def answer_six():\n",
    "    '''Show correlation between the number of citable documents per capita and the energy supply per capita\n",
    "    -->return a single number'''\n",
    "    Top15 = answer_one()\n",
    "    Top15['Population'] = Top15['Energy Supply'] / Top15['Energy Supply per Capita']\n",
    "    Top15['Documents per Capita'] = Top15['Citable documents'] / Top15['Population']\n",
    "    correlation = Top15[['Documents per Capita', 'Energy Supply per Capita']].astype(float).corr().iloc[0][1]\n",
    "    return correlation"
   ]
  },
  {
   "cell_type": "markdown",
   "id": "9771a368",
   "metadata": {},
   "source": [
    "# Question 7"
   ]
  },
  {
   "cell_type": "code",
   "execution_count": 772,
   "id": "b58303d9",
   "metadata": {},
   "outputs": [],
   "source": [
    "# dictionary of Countries by Continent\n",
    "ContinentDict  = {\n",
    "    'China':'Asia', \n",
    "    'United States':'North America', \n",
    "    'Japan':'Asia', \n",
    "    'United Kingdom':'Europe', \n",
    "    'Russian Federation':'Europe', \n",
    "    'Canada':'North America', \n",
    "    'Germany':'Europe', \n",
    "    'India':'Asia',\n",
    "    'France':'Europe', \n",
    "    'South Korea':'Asia', \n",
    "    'Italy':'Europe', \n",
    "    'Spain':'Europe', \n",
    "    'Iran':'Asia',\n",
    "    'Australia':'Australia', \n",
    "    'Brazil':'South America',\n",
    "    'Turkey': 'Asia',\n",
    "    'Norway': 'Europe'\n",
    "}\n",
    "\n",
    "def answer_seven():\n",
    "    '''Group the Countries by Continent show size (the number of countries in each continent), sum, mean,\n",
    "    and std deviation for the estimated population of each continent\n",
    "    -->return a DataFrame with index named Continent and columns ['size', 'sum', 'mean', 'std']'''\n",
    "    Top15 = answer_one().reset_index()\n",
    "    \n",
    "    Top15['Continent'] = Top15['Country'].apply(lambda val: ContinentDict[val])\n",
    "    Top15['Population'] = (Top15['Energy Supply'] / Top15['Energy Supply per Capita']).astype(float)    \n",
    "    grouped_df = Top15.groupby(['Continent'])['Population'].agg(['size', 'sum', 'mean', 'std'])\n",
    "    return grouped_df"
   ]
  }
 ],
 "metadata": {
  "kernelspec": {
   "display_name": "p38_env",
   "language": "python",
   "name": "p38_env"
  },
  "language_info": {
   "codemirror_mode": {
    "name": "ipython",
    "version": 3
   },
   "file_extension": ".py",
   "mimetype": "text/x-python",
   "name": "python",
   "nbconvert_exporter": "python",
   "pygments_lexer": "ipython3",
   "version": "3.8.5"
  }
 },
 "nbformat": 4,
 "nbformat_minor": 5
}
